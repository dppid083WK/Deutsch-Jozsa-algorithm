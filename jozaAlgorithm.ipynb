{
 "cells": [
  {
   "cell_type": "code",
   "execution_count": 2,
   "id": "e5eadf01-be54-4471-86ff-4d013807c0e6",
   "metadata": {},
   "outputs": [
    {
     "name": "stderr",
     "output_type": "stream",
     "text": [
      "<frozen importlib._bootstrap>:219: RuntimeWarning: scipy._lib.messagestream.MessageStream size changed, may indicate binary incompatibility. Expected 56 from C header, got 64 from PyObject\n"
     ]
    }
   ],
   "source": [
    "import numpy as np\n",
    "\n",
    "# Importing standard Qiskit libraries\n",
    "from qiskit import QuantumCircuit, transpile, Aer, IBMQ, QuantumRegister, QuantumCircuit\n",
    "from qiskit.tools.jupyter import *\n",
    "from qiskit.visualization import *\n",
    "from ibm_quantum_widgets import *\n",
    "from qiskit.providers.aer import QasmSimulator\n",
    "from qiskit.quantum_info import Statevector\n",
    "from qiskit import *\n",
    "# Loading your IBM Quantum account(s)\n",
    "provider = IBMQ.load_account()"
   ]
  },
  {
   "cell_type": "code",
   "execution_count": 3,
   "id": "d11e2e0f-5776-4406-9e21-4977b9713de9",
   "metadata": {},
   "outputs": [],
   "source": [
    "def u_oracle(qc):\n",
    "    qc.x(0)\n",
    "    qc.cx(0, 1)"
   ]
  },
  {
   "cell_type": "code",
   "execution_count": 4,
   "id": "e1482c02-fa4e-4b25-9718-5cdbc376ee6e",
   "metadata": {},
   "outputs": [
    {
     "data": {
      "image/png": "[encoded data removed]",
      "text/plain": [
       "<Figure size 568.052x204.68 with 1 Axes>"
      ]
     },
     "execution_count": 4,
     "metadata": {},
     "output_type": "execute_result"
    }
   ],
   "source": [
    "qc = QuantumCircuit(2,1)\n",
    "qc.x(1)\n",
    "qc.h([0,1])\n",
    "qc.barrier()\n",
    "u_oracle(qc)\n",
    "qc.barrier()\n",
    "qc.h(0)\n",
    "qc.measure([0],[0])\n",
    "qc.draw()"
   ]
  },
  {
   "cell_type": "code",
   "execution_count": null,
   "id": "b629a439-161a-44d9-a07a-b5deaa57d0a5",
   "metadata": {},
   "outputs": [],
   "source": [
    "backend = Aer.get_backend"
   ]
  }
 ],
 "metadata": {
  "kernelspec": {
   "display_name": "Python 3 (ipykernel)",
   "language": "python",
   "name": "python3"
  },
  "language_info": {
   "codemirror_mode": {
    "name": "ipython",
    "version": 3
   },
   "file_extension": ".py",
   "mimetype": "text/x-python",
   "name": "python",
   "nbconvert_exporter": "python",
   "pygments_lexer": "ipython3",
   "version": "3.8.13"
  },
  "widgets": {
   "application/vnd.jupyter.widget-state+json": {
    "state": {
     "0558a0bca0ac4ff8ae4c328ae6496e34": {
      "model_module": "@jupyter-widgets/controls",
      "model_module_version": "1.5.0",
      "model_name": "DescriptionStyleModel",
      "state": {
       "description_width": ""
      }
     },
     "0d2d81852b304fdf91b8cda7243125d9": {
      "model_module": "@jupyter-widgets/controls",
      "model_module_version": "1.5.0",
      "model_name": "DescriptionStyleModel",
      "state": {
       "description_width": ""
      }
     },
     "10373a5386e44783816d94ca0b891172": {
      "model_module": "@jupyter-widgets/controls",
      "model_module_version": "1.5.0",
      "model_name": "ButtonModel",
      "state": {
       "button_style": "primary",
       "description": "Clear",
       "layout": "IPY_MODEL_47ed1bf9ae2d41b8bea89a504d0f3ced",
       "style": "IPY_MODEL_1d76b6467816437eb88beb6f1e12ce8d"
      }
     },
     "1d76b6467816437eb88beb6f1e12ce8d": {
      "model_module": "@jupyter-widgets/controls",
      "model_module_version": "1.5.0",
      "model_name": "ButtonStyleModel",
      "state": {}
     },
     "22b5931f0d2f421cacd95f4453069c19": {
      "model_module": "@jupyter-widgets/controls",
      "model_module_version": "1.5.0",
      "model_name": "HBoxModel",
      "state": {
       "children": [
        "IPY_MODEL_b77fdb70218841a59d1888148c4899e0",
        "IPY_MODEL_2609d238f2b0439eaa3d87cad228856e",
        "IPY_MODEL_892ab1e9f4f1449a9fc9911e0866fc79",
        "IPY_MODEL_b6e12909f5184539ab716b5797ac20da",
        "IPY_MODEL_41a9edf6e59743dc933d1ebe2fd15c98"
       ],
       "layout": "IPY_MODEL_ee96ea44c7624c2ca112441b71ec7047"
      }
     },
     "2609d238f2b0439eaa3d87cad228856e": {
      "model_module": "@jupyter-widgets/controls",
      "model_module_version": "1.5.0",
      "model_name": "HTMLModel",
      "state": {
       "layout": "IPY_MODEL_a8ff781a81434674a5a9b720dd77c552",
       "style": "IPY_MODEL_3d44b4aaf4db45c0997915b0651955b6",
       "value": "<h5>Backend</h5>"
      }
     },
     "3d44b4aaf4db45c0997915b0651955b6": {
      "model_module": "@jupyter-widgets/controls",
      "model_module_version": "1.5.0",
      "model_name": "DescriptionStyleModel",
      "state": {
       "description_width": ""
      }
     },
     "40da89fe06664283b71ed11709917f22": {
      "model_module": "@jupyter-widgets/base",
      "model_module_version": "1.2.0",
      "model_name": "LayoutModel",
      "state": {
       "grid_template_areas": "\n                                       \". . . . right \"\n                                        ",
       "grid_template_columns": "20% 20% 20% 20% 20%",
       "width": "100%"
      }
     },
     "41a9edf6e59743dc933d1ebe2fd15c98": {
      "model_module": "@jupyter-widgets/controls",
      "model_module_version": "1.5.0",
      "model_name": "HTMLModel",
      "state": {
       "layout": "IPY_MODEL_6e179993e72e4ca1a098a0c074cb35ba",
       "style": "IPY_MODEL_c5801487e5c94227bb193cdf227c9b3c",
       "value": "<h5>Message</h5>"
      }
     },
     "47c268d3b83147019e9ad659229f5517": {
      "model_module": "@jupyter-widgets/base",
      "model_module_version": "1.2.0",
      "model_name": "LayoutModel",
      "state": {
       "width": "190px"
      }
     },
     "47ed1bf9ae2d41b8bea89a504d0f3ced": {
      "model_module": "@jupyter-widgets/base",
      "model_module_version": "1.2.0",
      "model_name": "LayoutModel",
      "state": {
       "grid_area": "right",
       "padding": "0px 0px 0px 0px",
       "width": "70px"
      }
     },
     "6583d43de4614c26a3ce11b21da89f84": {
      "model_module": "@jupyter-widgets/base",
      "model_module_version": "1.2.0",
      "model_name": "LayoutModel",
      "state": {
       "width": "95px"
      }
     },
     "6e179993e72e4ca1a098a0c074cb35ba": {
      "model_module": "@jupyter-widgets/base",
      "model_module_version": "1.2.0",
      "model_name": "LayoutModel",
      "state": {}
     },
     "72e3eabc6e464eb4b77fed0b3f6fc5cb": {
      "model_module": "@jupyter-widgets/controls",
      "model_module_version": "1.5.0",
      "model_name": "GridBoxModel",
      "state": {
       "children": [
        "IPY_MODEL_10373a5386e44783816d94ca0b891172"
       ],
       "layout": "IPY_MODEL_40da89fe06664283b71ed11709917f22"
      }
     },
     "77d5d0eb0320418c808e0a91920c75b2": {
      "model_module": "@jupyter-widgets/controls",
      "model_module_version": "1.5.0",
      "model_name": "HTMLModel",
      "state": {
       "layout": "IPY_MODEL_f76365b479544247837679baa6f90137",
       "style": "IPY_MODEL_0558a0bca0ac4ff8ae4c328ae6496e34",
       "value": "<p style='font-family: IBM Plex Sans, Arial, Helvetica, sans-serif; font-size: 20px; font-weight: medium;'>Circuit Properties</p>"
      }
     },
     "892ab1e9f4f1449a9fc9911e0866fc79": {
      "model_module": "@jupyter-widgets/controls",
      "model_module_version": "1.5.0",
      "model_name": "HTMLModel",
      "state": {
       "layout": "IPY_MODEL_6583d43de4614c26a3ce11b21da89f84",
       "style": "IPY_MODEL_f561f2595eaf49c3aa3bc183ed4af14b",
       "value": "<h5>Status</h5>"
      }
     },
     "a8ff781a81434674a5a9b720dd77c552": {
      "model_module": "@jupyter-widgets/base",
      "model_module_version": "1.2.0",
      "model_name": "LayoutModel",
      "state": {
       "width": "145px"
      }
     },
     "b6e12909f5184539ab716b5797ac20da": {
      "model_module": "@jupyter-widgets/controls",
      "model_module_version": "1.5.0",
      "model_name": "HTMLModel",
      "state": {
       "layout": "IPY_MODEL_f0a7d7202c9b4117b746574e9a0a143b",
       "style": "IPY_MODEL_0d2d81852b304fdf91b8cda7243125d9",
       "value": "<h5>Queue</h5>"
      }
     },
     "b77fdb70218841a59d1888148c4899e0": {
      "model_module": "@jupyter-widgets/controls",
      "model_module_version": "1.5.0",
      "model_name": "HTMLModel",
      "state": {
       "layout": "IPY_MODEL_47c268d3b83147019e9ad659229f5517",
       "style": "IPY_MODEL_eeed95063a3749d3ae386496c327aec6",
       "value": "<h5>Job ID</h5>"
      }
     },
     "c5801487e5c94227bb193cdf227c9b3c": {
      "model_module": "@jupyter-widgets/controls",
      "model_module_version": "1.5.0",
      "model_name": "DescriptionStyleModel",
      "state": {
       "description_width": ""
      }
     },
     "ee96ea44c7624c2ca112441b71ec7047": {
      "model_module": "@jupyter-widgets/base",
      "model_module_version": "1.2.0",
      "model_name": "LayoutModel",
      "state": {
       "margin": "0px 0px 0px 37px",
       "width": "600px"
      }
     },
     "eeed95063a3749d3ae386496c327aec6": {
      "model_module": "@jupyter-widgets/controls",
      "model_module_version": "1.5.0",
      "model_name": "DescriptionStyleModel",
      "state": {
       "description_width": ""
      }
     },
     "f0a7d7202c9b4117b746574e9a0a143b": {
      "model_module": "@jupyter-widgets/base",
      "model_module_version": "1.2.0",
      "model_name": "LayoutModel",
      "state": {
       "width": "70px"
      }
     },
     "f561f2595eaf49c3aa3bc183ed4af14b": {
      "model_module": "@jupyter-widgets/controls",
      "model_module_version": "1.5.0",
      "model_name": "DescriptionStyleModel",
      "state": {
       "description_width": ""
      }
     },
     "f76365b479544247837679baa6f90137": {
      "model_module": "@jupyter-widgets/base",
      "model_module_version": "1.2.0",
      "model_name": "LayoutModel",
      "state": {
       "margin": "0px 0px 10px 0px"
      }
     }
    },
    "version_major": 2,
    "version_minor": 0
   }
  }
 },
 "nbformat": 4,
 "nbformat_minor": 5
}
