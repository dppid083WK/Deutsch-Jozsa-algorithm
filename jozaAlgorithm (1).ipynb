{
 "cells": [
  {
   "cell_type": "code",
   "execution_count": 1,
   "id": "e5eadf01-be54-4471-86ff-4d013807c0e6",
   "metadata": {},
   "outputs": [
    {
     "name": "stderr",
     "output_type": "stream",
     "text": [
      "<frozen importlib._bootstrap>:219: RuntimeWarning: scipy._lib.messagestream.MessageStream size changed, may indicate binary incompatibility. Expected 56 from C header, got 64 from PyObject\n"
     ]
    }
   ],
   "source": [
    "import numpy as np\n",
    "\n",
    "# Importing standard Qiskit libraries\n",
    "from qiskit import QuantumCircuit, transpile, Aer, IBMQ, QuantumRegister, QuantumCircuit\n",
    "from qiskit.tools.jupyter import *\n",
    "from qiskit.visualization import *\n",
    "from ibm_quantum_widgets import *\n",
    "from qiskit.providers.aer import QasmSimulator\n",
    "from qiskit.quantum_info import Statevector\n",
    "from qiskit import *\n",
    "# Loading your IBM Quantum account(s)\n",
    "provider = IBMQ.load_account()"
   ]
  },
  {
   "cell_type": "code",
   "execution_count": 2,
   "id": "d11e2e0f-5776-4406-9e21-4977b9713de9",
   "metadata": {},
   "outputs": [],
   "source": [
    "def u_oracle(qc):\n",
    "    qc.x(0)\n",
    "    qc.cx(0, 1)"
   ]
  },
  {
   "cell_type": "code",
   "execution_count": 4,
   "id": "e1482c02-fa4e-4b25-9718-5cdbc376ee6e",
   "metadata": {},
   "outputs": [
    {
     "data": {
      "image/png": "[encoded data removed]",
      "text/plain": [
       "<Figure size 568.052x204.68 with 1 Axes>"
      ]
     },
     "execution_count": 4,
     "metadata": {},
     "output_type": "execute_result"
    }
   ],
   "source": [
    "qc = QuantumCircuit(2,1)\n",
    "\n",
    "qc.x(1)\n",
    "qc.h([0,1])\n",
    "qc.barrier()\n",
    "u_oracle(qc)\n",
    "qc.barrier()\n",
    "qc.h(0)\n",
    "\n",
    "qc.measure([0],[0])\n",
    "\n",
    "qc.draw()"
   ]
  },
  {
   "cell_type": "code",
   "execution_count": 5,
   "id": "b629a439-161a-44d9-a07a-b5deaa57d0a5",
   "metadata": {},
   "outputs": [
    {
     "data": {
      "image/png": "[encoded data removed]",
      "text/plain": [
       "<Figure size 504x360 with 1 Axes>"
      ]
     },
     "execution_count": 5,
     "metadata": {},
     "output_type": "execute_result"
    }
   ],
   "source": [
    "\n",
    "backend = Aer.get_backend('qasm_simulator') \n",
    "\n",
    "job = execute(qc, backend, shots = 1024) \n",
    "result = job.result()\n",
    "counts = result.get_counts(qc)\n",
    "\n",
    "plot_histogram(counts)"
   ]
  },
  {
   "cell_type": "code",
   "execution_count": null,
   "id": "799bab27-3129-4b9a-bc33-f97117d4414c",
   "metadata": {},
   "outputs": [],
   "source": []
  }
 ],
 "metadata": {
  "kernelspec": {
   "display_name": "Python 3 (ipykernel)",
   "language": "python",
   "name": "python3"
  },
  "language_info": {
   "codemirror_mode": {
    "name": "ipython",
    "version": 3
   },
   "file_extension": ".py",
   "mimetype": "text/x-python",
   "name": "python",
   "nbconvert_exporter": "python",
   "pygments_lexer": "ipython3",
   "version": "3.8.13"
  },
  "widgets": {
   "application/vnd.jupyter.widget-state+json": {
    "state": {
     "00ec223a224745558deaf5349d7b7879": {
      "model_module": "@jupyter-widgets/controls",
      "model_module_version": "1.5.0",
      "model_name": "DescriptionStyleModel",
      "state": {
       "description_width": ""
      }
     },
     "051704d83c7147f9a2c29c1c4394dcbe": {
      "model_module": "@jupyter-widgets/controls",
      "model_module_version": "1.5.0",
      "model_name": "HTMLModel",
      "state": {
       "layout": "IPY_MODEL_f51fae25c03f471f80319f8442c98109",
       "style": "IPY_MODEL_3920ec32656c492f8ecd0bfcec07b5a5",
       "value": "<h5>Queue</h5>"
      }
     },
     "210d287c72854f3f976a5f25341c569e": {
      "model_module": "@jupyter-widgets/controls",
      "model_module_version": "1.5.0",
      "model_name": "HTMLModel",
      "state": {
       "layout": "IPY_MODEL_bffa3e22409c42fc9e28528e9dc93050",
       "style": "IPY_MODEL_c58a655559b841c7b130d532658f9b72",
       "value": "<h5>Status</h5>"
      }
     },
     "2b882a8cc49b476fa0db66f44f850e80": {
      "model_module": "@jupyter-widgets/base",
      "model_module_version": "1.2.0",
      "model_name": "LayoutModel",
      "state": {}
     },
     "30472ea2f6dc480ebb75247abf01801e": {
      "model_module": "@jupyter-widgets/controls",
      "model_module_version": "1.5.0",
      "model_name": "ButtonStyleModel",
      "state": {}
     },
     "307ed96a95af45daa2042dbee520e918": {
      "model_module": "@jupyter-widgets/controls",
      "model_module_version": "1.5.0",
      "model_name": "HBoxModel",
      "state": {
       "children": [
        "IPY_MODEL_978106b6c0cf4e0da5173ce0ce50ac8d",
        "IPY_MODEL_e10bc2fab695436893e00932dce73b24",
        "IPY_MODEL_210d287c72854f3f976a5f25341c569e",
        "IPY_MODEL_051704d83c7147f9a2c29c1c4394dcbe",
        "IPY_MODEL_d2a828e5019a4924bbfe7cd8ef2ee4ca"
       ],
       "layout": "IPY_MODEL_e40f27718cb344d1b818e532fd88f32a"
      }
     },
     "3920ec32656c492f8ecd0bfcec07b5a5": {
      "model_module": "@jupyter-widgets/controls",
      "model_module_version": "1.5.0",
      "model_name": "DescriptionStyleModel",
      "state": {
       "description_width": ""
      }
     },
     "414b84b2645e489b9ee01af0400f491b": {
      "model_module": "@jupyter-widgets/controls",
      "model_module_version": "1.5.0",
      "model_name": "DescriptionStyleModel",
      "state": {
       "description_width": ""
      }
     },
     "42307b71e7284ff8a38d326195b7ee1a": {
      "model_module": "@jupyter-widgets/base",
      "model_module_version": "1.2.0",
      "model_name": "LayoutModel",
      "state": {
       "margin": "0px 0px 10px 0px"
      }
     },
     "4bbc9673ff274778a0efe19282def8b7": {
      "model_module": "@jupyter-widgets/controls",
      "model_module_version": "1.5.0",
      "model_name": "HTMLModel",
      "state": {
       "layout": "IPY_MODEL_42307b71e7284ff8a38d326195b7ee1a",
       "style": "IPY_MODEL_00ec223a224745558deaf5349d7b7879",
       "value": "<p style='font-family: IBM Plex Sans, Arial, Helvetica, sans-serif; font-size: 20px; font-weight: medium;'>Circuit Properties</p>"
      }
     },
     "580848a679a846f9afeb155c43d31521": {
      "model_module": "@jupyter-widgets/base",
      "model_module_version": "1.2.0",
      "model_name": "LayoutModel",
      "state": {
       "width": "145px"
      }
     },
     "58dde9129b724ab594a0cc3f5f3c6432": {
      "model_module": "@jupyter-widgets/controls",
      "model_module_version": "1.5.0",
      "model_name": "GridBoxModel",
      "state": {
       "children": [
        "IPY_MODEL_e1fb4dc220ed48659f9844f58f0f7e2c"
       ],
       "layout": "IPY_MODEL_e0f6173b90584549b6468f123162ecd6"
      }
     },
     "60def6ab1ef74043a79aa539382336d9": {
      "model_module": "@jupyter-widgets/controls",
      "model_module_version": "1.5.0",
      "model_name": "DescriptionStyleModel",
      "state": {
       "description_width": ""
      }
     },
     "978106b6c0cf4e0da5173ce0ce50ac8d": {
      "model_module": "@jupyter-widgets/controls",
      "model_module_version": "1.5.0",
      "model_name": "HTMLModel",
      "state": {
       "layout": "IPY_MODEL_a7f5c9ce2dbf43de9b1ad1a88ab475da",
       "style": "IPY_MODEL_414b84b2645e489b9ee01af0400f491b",
       "value": "<h5>Job ID</h5>"
      }
     },
     "a7f5c9ce2dbf43de9b1ad1a88ab475da": {
      "model_module": "@jupyter-widgets/base",
      "model_module_version": "1.2.0",
      "model_name": "LayoutModel",
      "state": {
       "width": "190px"
      }
     },
     "b7ca0be69ba94f6e94c45d6295a1f6a1": {
      "model_module": "@jupyter-widgets/base",
      "model_module_version": "1.2.0",
      "model_name": "LayoutModel",
      "state": {
       "grid_area": "right",
       "padding": "0px 0px 0px 0px",
       "width": "70px"
      }
     },
     "bffa3e22409c42fc9e28528e9dc93050": {
      "model_module": "@jupyter-widgets/base",
      "model_module_version": "1.2.0",
      "model_name": "LayoutModel",
      "state": {
       "width": "95px"
      }
     },
     "c58a655559b841c7b130d532658f9b72": {
      "model_module": "@jupyter-widgets/controls",
      "model_module_version": "1.5.0",
      "model_name": "DescriptionStyleModel",
      "state": {
       "description_width": ""
      }
     },
     "d2a828e5019a4924bbfe7cd8ef2ee4ca": {
      "model_module": "@jupyter-widgets/controls",
      "model_module_version": "1.5.0",
      "model_name": "HTMLModel",
      "state": {
       "layout": "IPY_MODEL_2b882a8cc49b476fa0db66f44f850e80",
       "style": "IPY_MODEL_e58bf25500194cc585d01311fb6f597e",
       "value": "<h5>Message</h5>"
      }
     },
     "e0f6173b90584549b6468f123162ecd6": {
      "model_module": "@jupyter-widgets/base",
      "model_module_version": "1.2.0",
      "model_name": "LayoutModel",
      "state": {
       "grid_template_areas": "\n                                       \". . . . right \"\n                                        ",
       "grid_template_columns": "20% 20% 20% 20% 20%",
       "width": "100%"
      }
     },
     "e10bc2fab695436893e00932dce73b24": {
      "model_module": "@jupyter-widgets/controls",
      "model_module_version": "1.5.0",
      "model_name": "HTMLModel",
      "state": {
       "layout": "IPY_MODEL_580848a679a846f9afeb155c43d31521",
       "style": "IPY_MODEL_60def6ab1ef74043a79aa539382336d9",
       "value": "<h5>Backend</h5>"
      }
     },
     "e1fb4dc220ed48659f9844f58f0f7e2c": {
      "model_module": "@jupyter-widgets/controls",
      "model_module_version": "1.5.0",
      "model_name": "ButtonModel",
      "state": {
       "button_style": "primary",
       "description": "Clear",
       "layout": "IPY_MODEL_b7ca0be69ba94f6e94c45d6295a1f6a1",
       "style": "IPY_MODEL_30472ea2f6dc480ebb75247abf01801e"
      }
     },
     "e40f27718cb344d1b818e532fd88f32a": {
      "model_module": "@jupyter-widgets/base",
      "model_module_version": "1.2.0",
      "model_name": "LayoutModel",
      "state": {
       "margin": "0px 0px 0px 37px",
       "width": "600px"
      }
     },
     "e58bf25500194cc585d01311fb6f597e": {
      "model_module": "@jupyter-widgets/controls",
      "model_module_version": "1.5.0",
      "model_name": "DescriptionStyleModel",
      "state": {
       "description_width": ""
      }
     },
     "f51fae25c03f471f80319f8442c98109": {
      "model_module": "@jupyter-widgets/base",
      "model_module_version": "1.2.0",
      "model_name": "LayoutModel",
      "state": {
       "width": "70px"
      }
     }
    },
    "version_major": 2,
    "version_minor": 0
   }
  }
 },
 "nbformat": 4,
 "nbformat_minor": 5
}
